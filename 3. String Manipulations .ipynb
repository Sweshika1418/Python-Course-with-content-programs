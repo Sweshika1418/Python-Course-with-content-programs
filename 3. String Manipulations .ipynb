{
 "cells": [
  {
   "cell_type": "markdown",
   "id": "678c2f7d",
   "metadata": {},
   "source": [
    "<b>1. Indexing and Slicing</b> "
   ]
  },
  {
   "cell_type": "markdown",
   "id": "fff07134",
   "metadata": {},
   "source": [
    "We can access elements by indexing and slicing. \n",
    "\n",
    "Sequence datatypes are strings,list,tuple."
   ]
  },
  {
   "cell_type": "markdown",
   "id": "b40d6bf3",
   "metadata": {},
   "source": [
    "<b>Indexing:</b> It is used to obtain individual elements.starts from 0.Negative indexing starts from -1 it represents last element.\n",
    "    \n",
    "<b>Slicing:</b> It obtains a sequence of elements."
   ]
  },
  {
   "cell_type": "markdown",
   "id": "fd880f6b",
   "metadata": {},
   "source": [
    "str = \"python\"\n",
    "\n",
    "<b>-6 -5 -4 -3 -2 -1  negative indexing / reverse indexing</b>\n",
    "\n",
    "<b>p    y    t    h    o    n</b>\n",
    "\n",
    "<b>0   1  2  3  4  5  forward indexing / positive indexing</b>"
   ]
  },
  {
   "cell_type": "code",
   "execution_count": 6,
   "id": "a1eca90e",
   "metadata": {},
   "outputs": [
    {
     "name": "stdout",
     "output_type": "stream",
     "text": [
      "E\n",
      "n\n",
      "v\n",
      "i\n",
      "r\n",
      "o\n",
      "n\n",
      "m\n",
      "e\n",
      "n\n",
      "t\n",
      "length of Environment: 11\n"
     ]
    }
   ],
   "source": [
    "# INDEXING\n",
    "\n",
    "x = \"Environment\"\n",
    "print(x[0])\n",
    "print(x[1])\n",
    "print(x[2])\n",
    "print(x[3])\n",
    "print(x[4])\n",
    "print(x[5])\n",
    "print(x[6])\n",
    "print(x[7])\n",
    "print(x[8])\n",
    "print(x[9])\n",
    "print(x[10])\n",
    "print(\"length of Environment:\",len(x))"
   ]
  },
  {
   "cell_type": "code",
   "execution_count": 7,
   "id": "5a495a4d",
   "metadata": {},
   "outputs": [
    {
     "name": "stdout",
     "output_type": "stream",
     "text": [
      "d\n",
      "l\n",
      "r\n",
      "o\n",
      "W\n"
     ]
    }
   ],
   "source": [
    "# NEGATIVE INDEXING\n",
    "\n",
    "y = \"World\"\n",
    "print(y[-1])\n",
    "print(y[-2])\n",
    "print(y[-3])\n",
    "print(y[-4])\n",
    "print(y[-5])"
   ]
  },
  {
   "cell_type": "code",
   "execution_count": 17,
   "id": "23a7f7ee",
   "metadata": {},
   "outputs": [
    {
     "name": "stdout",
     "output_type": "stream",
     "text": [
      "Python\n",
      "World\n",
      "World\n",
      "Python \n"
     ]
    }
   ],
   "source": [
    "# SLICING   \n",
    "\n",
    "str = \"Python World\" \n",
    "print(str[0:6]) # it returns Python\n",
    "print(str[7:12]) # it returns world\n",
    "print(str[7:]) # it prints from index 7\n",
    "print(str[:7]) # it prints from 0 - 7 index"
   ]
  },
  {
   "cell_type": "markdown",
   "id": "d77c78d2",
   "metadata": {},
   "source": [
    "<b>Slicing [ start : stop : Skip]</b>"
   ]
  },
  {
   "cell_type": "code",
   "execution_count": 32,
   "id": "3d4f4374",
   "metadata": {},
   "outputs": [
    {
     "name": "stdout",
     "output_type": "stream",
     "text": [
      "Sequence Data\n",
      "Dt \n",
      "Types\n"
     ]
    }
   ],
   "source": [
    "a = \"Sequence Data Types\"\n",
    "print(a[0:13:1])\n",
    "print(a[9:15:2])\n",
    "print(a[-5:])\n",
    "print(a[])"
   ]
  },
  {
   "cell_type": "code",
   "execution_count": 22,
   "id": "a3cbc45d",
   "metadata": {},
   "outputs": [
    {
     "name": "stdout",
     "output_type": "stream",
     "text": [
      "Taj\n",
      "Taj Mahal\n",
      "lahaM jaT\n",
      "Tj\n",
      "Mhl\n",
      "lahaM\n",
      "jaT\n"
     ]
    }
   ],
   "source": [
    "b = \"Taj Mahal\"\n",
    "print(b[0:3]) # print Taj\n",
    "print(b[::])  # print Taj mahal\n",
    "print(b[::-1]) # print Taj mahal in reverse\n",
    "print(b[0:3:2]) # print Tj \n",
    "print(b[4:10:2]) # print mhl\n",
    "print(b[-1:-6:-1]) # print Mahal in reverse\n",
    "print(b[-7::-1])  # print Taj in reverse"
   ]
  },
  {
   "cell_type": "code",
   "execution_count": 38,
   "id": "7353b460",
   "metadata": {
    "scrolled": true
   },
   "outputs": [
    {
     "name": "stdout",
     "output_type": "stream",
     "text": [
      "Alluri\n",
      "Sita\n",
      "Rama\n",
      "Raju\n",
      "Alluri Sita Rama Raju\n",
      "ujaR\n",
      "amaR\n",
      "atiS \n",
      "irullA\n",
      "ujaR amaR atiS irullA\n"
     ]
    }
   ],
   "source": [
    "str = \"Alluri Sita Rama Raju\"\n",
    "\n",
    "# Forward SLicing\n",
    "\n",
    "print(str[0:6])   # ALluri\n",
    "print(str[7:11])  # Sita\n",
    "print(str[12:16]) # Rama\n",
    "print(str[17:]) # Raju\n",
    "print(str[::])\n",
    "\n",
    "# Reverse SLicing\n",
    "\n",
    "print(str[-1:-5:-1])  # ujaR\n",
    "print(str[-6:-10:-1])  # amaR\n",
    "print(str[-11:-16:-1]) # atiS\n",
    "print(str[-16::-1])  # irullA\n",
    "print(str[::-1])"
   ]
  },
  {
   "cell_type": "markdown",
   "id": "4597debb",
   "metadata": {},
   "source": [
    "<b>Mutable and immutable Objects:</b>\n",
    "    \n",
    "    An immutable obj is whose value cannot be changed.In python integers,strings,float and tuples are immutable objs.\n",
    "    this means you can create obj and assign some value to it but u cant modify.\n",
    "    \n",
    "    An mutable obj are those values can be changed.\n",
    "    Muutable types are Lists,Dictionaries and sets."
   ]
  },
  {
   "cell_type": "code",
   "execution_count": null,
   "id": "05e6a62b",
   "metadata": {},
   "outputs": [],
   "source": [
    "number = 522632145587\n",
    "\n",
    "print(number[0:5])# here you will get error because numbers are immutable obj,they dont support indexing and slicing.\n"
   ]
  },
  {
   "cell_type": "markdown",
   "id": "8a49b5af",
   "metadata": {},
   "source": [
    "<b>2. String Methods</b>\n",
    "\n",
    "Python has a set of buit-in methods that you can use on Strings. All string methods return new values. They do not change original String.\n",
    "\n",
    "There are 21 String Methods.\n",
    "\n",
    "1. upper()  2. lower() 3. title()  4. capitalize()  5. swapcase()  6. strip()  7. lstrip()  8. rstrip()  9. ljust() 10. rjust()  11. center()  12. count() \n",
    "13. find()  14. split()  15.replace()  16. startswith  17. endswith() \n",
    "18. join()  19. index()  20. rindex()  21. zfill()"
   ]
  },
  {
   "cell_type": "markdown",
   "id": "7db22ea0",
   "metadata": {},
   "source": [
    "1. upper() - Converts a string into upper case"
   ]
  },
  {
   "cell_type": "code",
   "execution_count": 2,
   "id": "b161fc54",
   "metadata": {},
   "outputs": [
    {
     "name": "stdout",
     "output_type": "stream",
     "text": [
      "SWESHIKA\n",
      "BUILT-IN METHODS\n"
     ]
    }
   ],
   "source": [
    "str = \"sweshika\"\n",
    "sen = \"built-in methods\"\n",
    "print(str.upper())\n",
    "print(sen.upper())"
   ]
  },
  {
   "cell_type": "markdown",
   "id": "e6da1c93",
   "metadata": {},
   "source": [
    "2. lower() - Converts a string into lower"
   ]
  },
  {
   "cell_type": "code",
   "execution_count": 3,
   "id": "e51d4065",
   "metadata": {},
   "outputs": [
    {
     "name": "stdout",
     "output_type": "stream",
     "text": [
      "sweshikaaa\n",
      "python programming\n"
     ]
    }
   ],
   "source": [
    "str = \"SWeSHIKaAA\"\n",
    "sent = \"PYTHON PRoGRAmMINg\"\n",
    "print(str.lower())\n",
    "print(sent.lower())"
   ]
  },
  {
   "cell_type": "markdown",
   "id": "e5b47356",
   "metadata": {},
   "source": [
    "3. title() - Converts the first character of each word to upper."
   ]
  },
  {
   "cell_type": "code",
   "execution_count": 5,
   "id": "457e7f83",
   "metadata": {},
   "outputs": [
    {
     "name": "stdout",
     "output_type": "stream",
     "text": [
      "Looking Good Is The Best Revenge\n",
      "Strings Are Immutable Objects\n"
     ]
    }
   ],
   "source": [
    "str = 'looking good is the best revenge'\n",
    "sent = 'strings are immutable objects'\n",
    "print(str.title())\n",
    "print(sent.title())"
   ]
  },
  {
   "cell_type": "markdown",
   "id": "f831b811",
   "metadata": {},
   "source": [
    "4. capitalize() - Converts the first character to upper case."
   ]
  },
  {
   "cell_type": "code",
   "execution_count": 6,
   "id": "072ed605",
   "metadata": {},
   "outputs": [
    {
     "name": "stdout",
     "output_type": "stream",
     "text": [
      "Looking good is the best revenge\n",
      "Always be independent\n"
     ]
    }
   ],
   "source": [
    "str = 'looking good is the best revenge'\n",
    "sent = 'always be independent'\n",
    "print(str.capitalize())\n",
    "print(sent.capitalize())"
   ]
  },
  {
   "cell_type": "markdown",
   "id": "c62b6d35",
   "metadata": {},
   "source": [
    "5. swapcase()- Converts the upper case into lower case and lower to upper."
   ]
  },
  {
   "cell_type": "code",
   "execution_count": 7,
   "id": "ba1da2a4",
   "metadata": {},
   "outputs": [
    {
     "name": "stdout",
     "output_type": "stream",
     "text": [
      "hELLO eVeRYONEE\n",
      "gOOD moRNIng\n"
     ]
    }
   ],
   "source": [
    "a = 'Hello EvEryonee'\n",
    "b = 'Good MOrniNG'\n",
    "print(a.swapcase())\n",
    "print(b.swapcase())"
   ]
  },
  {
   "cell_type": "markdown",
   "id": "7a56f369",
   "metadata": {},
   "source": [
    "6. strip() - Removes the spaces at the begining and at end of string."
   ]
  },
  {
   "cell_type": "code",
   "execution_count": 11,
   "id": "e8f802e1",
   "metadata": {},
   "outputs": [
    {
     "name": "stdout",
     "output_type": "stream",
     "text": [
      "Looking    good      is the best revenge\n",
      "Looking good is the best revenge\n"
     ]
    }
   ],
   "source": [
    "str = \"   good     \"\n",
    "print(\"Looking\",str,\"is the best revenge\")\n",
    "print(\"Looking\",str.strip(),\"is the best revenge\")"
   ]
  },
  {
   "cell_type": "code",
   "execution_count": 12,
   "id": "c54658d4",
   "metadata": {},
   "outputs": [
    {
     "name": "stdout",
     "output_type": "stream",
     "text": [
      "revenge\n"
     ]
    }
   ],
   "source": [
    "str = \"       revenge                \"\n",
    "print(str.strip())"
   ]
  },
  {
   "cell_type": "markdown",
   "id": "22fd9f05",
   "metadata": {},
   "source": [
    "7. lstrip() - removes a left trim version of the string."
   ]
  },
  {
   "cell_type": "code",
   "execution_count": 17,
   "id": "48843365",
   "metadata": {},
   "outputs": [
    {
     "name": "stdout",
     "output_type": "stream",
     "text": [
      "best revenge\n"
     ]
    }
   ],
   "source": [
    "str = \"        best revenge\"\n",
    "print(str.lstrip())   # removes only left space only"
   ]
  },
  {
   "cell_type": "markdown",
   "id": "c9168553",
   "metadata": {},
   "source": [
    "8. rstrip() - removes the right trim version of the string."
   ]
  },
  {
   "cell_type": "code",
   "execution_count": 23,
   "id": "a3acddc2",
   "metadata": {},
   "outputs": [
    {
     "name": "stdout",
     "output_type": "stream",
     "text": [
      "     Hello EvEryonee\n"
     ]
    }
   ],
   "source": [
    "a = '     Hello EvEryonee      '\n",
    "print(a.rstrip())"
   ]
  },
  {
   "cell_type": "markdown",
   "id": "ab3c0d6c",
   "metadata": {},
   "source": [
    "9. ljust() - returns a left justified version of string."
   ]
  },
  {
   "cell_type": "code",
   "execution_count": 24,
   "id": "eba7f160",
   "metadata": {},
   "outputs": [
    {
     "name": "stdout",
     "output_type": "stream",
     "text": [
      "! pythhon         !\n"
     ]
    }
   ],
   "source": [
    "a= \"pythhon\"\n",
    "print(\"!\",a.ljust(15),\"!\") # 15 spaces including the varble length "
   ]
  },
  {
   "cell_type": "markdown",
   "id": "d19a3e68",
   "metadata": {},
   "source": [
    "10. rjust() - return a right justfied version of a string."
   ]
  },
  {
   "cell_type": "code",
   "execution_count": 25,
   "id": "4a24f8d3",
   "metadata": {},
   "outputs": [
    {
     "name": "stdout",
     "output_type": "stream",
     "text": [
      "!                     Sweshikaaa !\n"
     ]
    }
   ],
   "source": [
    "b = \"Sweshikaaa\"\n",
    "print(\"!\",b.rjust(30),\"!\")"
   ]
  },
  {
   "cell_type": "markdown",
   "id": "8cf3d4e4",
   "metadata": {},
   "source": [
    "11. center() - this method will align the string taking up the space number of characters."
   ]
  },
  {
   "cell_type": "code",
   "execution_count": 28,
   "id": "32bc0c1a",
   "metadata": {},
   "outputs": [
    {
     "name": "stdout",
     "output_type": "stream",
     "text": [
      "@                     Sweshikaa                      @\n"
     ]
    }
   ],
   "source": [
    "c = \"Sweshikaa\"\n",
    "print(\"@\",c.center(50),\"@\")"
   ]
  },
  {
   "cell_type": "markdown",
   "id": "f40d8bf0",
   "metadata": {},
   "source": [
    "12. count() - Returns the number of times a specified value occurs in a string."
   ]
  },
  {
   "cell_type": "code",
   "execution_count": 34,
   "id": "6fd8630a",
   "metadata": {},
   "outputs": [
    {
     "name": "stdout",
     "output_type": "stream",
     "text": [
      "3\n",
      "6\n"
     ]
    }
   ],
   "source": [
    "str = 'Python is a high level Language, Python is Interpreted, Python is scripting Language.'\n",
    "print(str.count(\"Python\"))\n",
    "print(str.count(\"i\"))"
   ]
  },
  {
   "cell_type": "markdown",
   "id": "234bdf4e",
   "metadata": {},
   "source": [
    "13. find() - This method finds the first occurence of the specified text"
   ]
  },
  {
   "cell_type": "code",
   "execution_count": 39,
   "id": "8c967360",
   "metadata": {},
   "outputs": [
    {
     "name": "stdout",
     "output_type": "stream",
     "text": [
      "12\n",
      "18\n"
     ]
    }
   ],
   "source": [
    "str = \"Python is a high level Language\"\n",
    "print(str.find(\"high\"))\n",
    "print(str.find(\"e\"))  # it returns the index number  "
   ]
  },
  {
   "cell_type": "markdown",
   "id": "e70c6ec0",
   "metadata": {},
   "source": [
    "14. split() - Splits the string into a list where each word is a list item."
   ]
  },
  {
   "cell_type": "code",
   "execution_count": 42,
   "id": "de979a4c",
   "metadata": {},
   "outputs": [
    {
     "name": "stdout",
     "output_type": "stream",
     "text": [
      "['Python', 'is', 'a', 'high', 'level', 'Language']\n"
     ]
    }
   ],
   "source": [
    "str = \"Python is a high level Language\"\n",
    "print(str.split())"
   ]
  },
  {
   "cell_type": "markdown",
   "id": "517d1735",
   "metadata": {},
   "source": [
    "15. replace() - Replaces a specified word with another specified text."
   ]
  },
  {
   "cell_type": "code",
   "execution_count": 46,
   "id": "5d0bd8c0",
   "metadata": {},
   "outputs": [
    {
     "name": "stdout",
     "output_type": "stream",
     "text": [
      "Go is a high level Language\n"
     ]
    }
   ],
   "source": [
    "str = \"Python is a high level Language\"\n",
    "print(str.replace(\"Python\",\"Go\"))"
   ]
  },
  {
   "cell_type": "markdown",
   "id": "831646ae",
   "metadata": {},
   "source": [
    "16. startswith() - returns true if the string starts with the specified value."
   ]
  },
  {
   "cell_type": "code",
   "execution_count": 48,
   "id": "a7acd936",
   "metadata": {},
   "outputs": [
    {
     "name": "stdout",
     "output_type": "stream",
     "text": [
      "True\n",
      "False\n"
     ]
    }
   ],
   "source": [
    "str = \"Python is a high level Language\"\n",
    "print(str.startswith(\"Python\"))\n",
    "print(str.startswith(\"Java\"))"
   ]
  },
  {
   "cell_type": "markdown",
   "id": "8b43a673",
   "metadata": {},
   "source": [
    "17. endswith - returns true if the string ends with the specified value."
   ]
  },
  {
   "cell_type": "code",
   "execution_count": 51,
   "id": "3543486a",
   "metadata": {},
   "outputs": [
    {
     "name": "stdout",
     "output_type": "stream",
     "text": [
      "False\n",
      "True\n"
     ]
    }
   ],
   "source": [
    "str = \"Python is a high level Language\"\n",
    "print(str.endswith(\"Python\"))\n",
    "print(str.endswith(\"Language\"))"
   ]
  },
  {
   "cell_type": "markdown",
   "id": "2f3f2d75",
   "metadata": {},
   "source": [
    "18. join() - Joins all the items in a tuple and list into a string.\n"
   ]
  },
  {
   "cell_type": "code",
   "execution_count": 53,
   "id": "60ac9f06",
   "metadata": {},
   "outputs": [
    {
     "name": "stdout",
     "output_type": "stream",
     "text": [
      "C Python Java C++ Ruby\n"
     ]
    }
   ],
   "source": [
    "courses = (\"C\",\"Python\",\"Java\",\"C++\",\"Ruby\")\n",
    "print(\" \".join (courses))"
   ]
  },
  {
   "cell_type": "code",
   "execution_count": 54,
   "id": "614cd2fa",
   "metadata": {},
   "outputs": [
    {
     "name": "stdout",
     "output_type": "stream",
     "text": [
      "C Python Java C++ Ruby\n"
     ]
    }
   ],
   "source": [
    "courses = [\"C\",\"Python\",\"Java\",\"C++\",\"Ruby\"]\n",
    "print(\" \".join (courses))"
   ]
  },
  {
   "cell_type": "markdown",
   "id": "a94f6f9a",
   "metadata": {},
   "source": [
    "19. index() - Searches the string for a specified value and returns the position."
   ]
  },
  {
   "cell_type": "code",
   "execution_count": 55,
   "id": "4728c5a4",
   "metadata": {},
   "outputs": [
    {
     "name": "stdout",
     "output_type": "stream",
     "text": [
      "12\n"
     ]
    }
   ],
   "source": [
    "str = \"Python is a high level Language\"\n",
    "print(str.index(\"high\"))"
   ]
  },
  {
   "cell_type": "markdown",
   "id": "c3f60100",
   "metadata": {},
   "source": [
    "20. rindex - Searches the srting for a specified value and returns the last position of where it was found."
   ]
  },
  {
   "cell_type": "code",
   "execution_count": 61,
   "id": "e49b62d1",
   "metadata": {},
   "outputs": [
    {
     "name": "stdout",
     "output_type": "stream",
     "text": [
      "28\n",
      "39\n",
      "36\n"
     ]
    }
   ],
   "source": [
    "str = \"Feel that you are great and you become great\"\n",
    "print(str.rindex(\"you\")) # it returns index value of 2nd you\n",
    "print(str.rindex(\"great\")) # it returns index value of 2nd you\n",
    "print(str.rindex(\"m\")) # it returns index value of  1st m  from right side"
   ]
  },
  {
   "cell_type": "markdown",
   "id": "659b2678",
   "metadata": {},
   "source": [
    "21. zfill() - Fills the string with a specified number of 0 values at the begining."
   ]
  },
  {
   "cell_type": "code",
   "execution_count": 71,
   "id": "777ab4bb",
   "metadata": {},
   "outputs": [
    {
     "name": "stdout",
     "output_type": "stream",
     "text": [
      "0000001115\n",
      "000000000Helloo\n"
     ]
    }
   ],
   "source": [
    "number = \"1115\"\n",
    "print(number.zfill(10))\n",
    "str = \"Helloo\"\n",
    "print(str.zfill(15))"
   ]
  },
  {
   "cell_type": "markdown",
   "id": "268b7edf",
   "metadata": {},
   "source": [
    "<b>3. String Validation Functions:</b>"
   ]
  },
  {
   "cell_type": "markdown",
   "id": "cd11bff6",
   "metadata": {},
   "source": [
    "1. isupper() 2. islower() 3. isalnum() 4.isalpha() 5.isdigit()"
   ]
  },
  {
   "cell_type": "markdown",
   "id": "2018152d",
   "metadata": {},
   "source": [
    "1. isupper - Returns True, if all the characters in a string are upper case."
   ]
  },
  {
   "cell_type": "code",
   "execution_count": 2,
   "id": "99823925",
   "metadata": {},
   "outputs": [
    {
     "name": "stdout",
     "output_type": "stream",
     "text": [
      "False\n",
      "True\n"
     ]
    }
   ],
   "source": [
    "a = \"Sweshika\"\n",
    "b = \"NIKKI\"\n",
    "print(a.isupper())\n",
    "print(b.isupper())"
   ]
  },
  {
   "cell_type": "markdown",
   "id": "5f63a0b8",
   "metadata": {},
   "source": [
    "2. islower() - Returns True,if all the characters in a string are lower case."
   ]
  },
  {
   "cell_type": "code",
   "execution_count": 3,
   "id": "c51e80a1",
   "metadata": {},
   "outputs": [
    {
     "name": "stdout",
     "output_type": "stream",
     "text": [
      "False\n",
      "True\n"
     ]
    }
   ],
   "source": [
    "a = \"Sweshikaa\"\n",
    "b = \"monika\"\n",
    "print(a.islower())\n",
    "print(b.islower())"
   ]
  },
  {
   "cell_type": "markdown",
   "id": "3d512f87",
   "metadata": {},
   "source": [
    "3. isalnum() - Returns True,if all characters are alphanumeric, means (a-z) and (0-9)"
   ]
  },
  {
   "cell_type": "code",
   "execution_count": 10,
   "id": "14bf4679",
   "metadata": {},
   "outputs": [
    {
     "name": "stdout",
     "output_type": "stream",
     "text": [
      "True\n",
      "True\n",
      "True\n",
      "True\n"
     ]
    }
   ],
   "source": [
    "a = \"Sweshika1418\"\n",
    "b = \"Ospss555\"\n",
    "c = \"55\"\n",
    "d = \"ppsjs\"\n",
    "print(a.isalnum())\n",
    "print(b.isalnum())\n",
    "print(c.isalnum())\n",
    "print(d.isalnum())"
   ]
  },
  {
   "cell_type": "markdown",
   "id": "a325f84c",
   "metadata": {},
   "source": [
    "4. isalpha() - Returns True, if all characters in a string are in alphabet"
   ]
  },
  {
   "cell_type": "code",
   "execution_count": 11,
   "id": "8410ce82",
   "metadata": {},
   "outputs": [
    {
     "name": "stdout",
     "output_type": "stream",
     "text": [
      "True\n",
      "False\n",
      "False\n"
     ]
    }
   ],
   "source": [
    "a = \"Sweshikaaaaaaaaa\"\n",
    "n = \"4512\"\n",
    "c = \"swe1415\"\n",
    "print(a.isalpha())\n",
    "print(b.isalpha())\n",
    "print(c.isalpha())"
   ]
  },
  {
   "cell_type": "markdown",
   "id": "dcdc0b9f",
   "metadata": {},
   "source": [
    "5. isdigit() - Returns True, if all characters in string are digits."
   ]
  },
  {
   "cell_type": "code",
   "execution_count": 17,
   "id": "8b594c11",
   "metadata": {},
   "outputs": [
    {
     "name": "stdout",
     "output_type": "stream",
     "text": [
      "False\n",
      "True\n",
      "False\n",
      "True\n"
     ]
    }
   ],
   "source": [
    "a = \"Sweshikaaaaaaaaa\"\n",
    "n = \"444\"\n",
    "c = \"swe1415\"\n",
    "z = \"99547855\"\n",
    "print(a.isdigit())\n",
    "print(n.isdigit())\n",
    "print(c.isdigit())\n",
    "print(z.isdigit())"
   ]
  },
  {
   "cell_type": "markdown",
   "id": "7e48c54f",
   "metadata": {},
   "source": [
    "Print ASCII Values: \n",
    "\n",
    "    1. ord()\n",
    "    \n",
    "    2. chr()"
   ]
  },
  {
   "cell_type": "markdown",
   "id": "6fbaf061",
   "metadata": {},
   "source": [
    "ord() - this function returns ascii value to given character."
   ]
  },
  {
   "cell_type": "code",
   "execution_count": 20,
   "id": "ad8f2f66",
   "metadata": {},
   "outputs": [
    {
     "name": "stdout",
     "output_type": "stream",
     "text": [
      "110\n",
      "76\n"
     ]
    }
   ],
   "source": [
    "print(ord(\"n\"))\n",
    "print(ord(\"L\"))"
   ]
  },
  {
   "cell_type": "markdown",
   "id": "45058daa",
   "metadata": {},
   "source": [
    "chr() - this function converts a specified inetger value into a character."
   ]
  },
  {
   "cell_type": "code",
   "execution_count": 24,
   "id": "99afd1d2",
   "metadata": {},
   "outputs": [
    {
     "name": "stdout",
     "output_type": "stream",
     "text": [
      "N\n",
      "\n"
     ]
    }
   ],
   "source": [
    "print(chr(78))\n",
    "print(chr(150))"
   ]
  }
 ],
 "metadata": {
  "kernelspec": {
   "display_name": "Python 3 (ipykernel)",
   "language": "python",
   "name": "python3"
  },
  "language_info": {
   "codemirror_mode": {
    "name": "ipython",
    "version": 3
   },
   "file_extension": ".py",
   "mimetype": "text/x-python",
   "name": "python",
   "nbconvert_exporter": "python",
   "pygments_lexer": "ipython3",
   "version": "3.9.12"
  }
 },
 "nbformat": 4,
 "nbformat_minor": 5
}
