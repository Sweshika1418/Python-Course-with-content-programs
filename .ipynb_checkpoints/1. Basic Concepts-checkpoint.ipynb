{
 "cells": [
  {
   "cell_type": "markdown",
   "id": "47920247",
   "metadata": {},
   "source": [
    "Basic syntax of python:"
   ]
  },
  {
   "cell_type": "code",
   "execution_count": 2,
   "id": "b56a2523",
   "metadata": {},
   "outputs": [
    {
     "name": "stdout",
     "output_type": "stream",
     "text": [
      "HEllo World\n",
      "HEllo Python\n"
     ]
    }
   ],
   "source": [
    "print(\"HEllo World\")\n",
    "print(\"HEllo Python\")"
   ]
  },
  {
   "cell_type": "markdown",
   "id": "a463b83c",
   "metadata": {},
   "source": [
    "Comments"
   ]
  },
  {
   "cell_type": "markdown",
   "id": "ec009c72",
   "metadata": {},
   "source": [
    "single line comment - we use # for single comments.\n",
    "\n",
    "multi line comment - we use ''' ''' or \"\"\" \"\"\"."
   ]
  },
  {
   "cell_type": "code",
   "execution_count": 3,
   "id": "136cba4e",
   "metadata": {},
   "outputs": [],
   "source": [
    "# Hello guys! this is sweshika"
   ]
  },
  {
   "cell_type": "code",
   "execution_count": 5,
   "id": "55aa73ff",
   "metadata": {},
   "outputs": [
    {
     "data": {
      "text/plain": [
       "' Variables can be of diiferent\\ntypes in python, such as integer '"
      ]
     },
     "execution_count": 5,
     "metadata": {},
     "output_type": "execute_result"
    }
   ],
   "source": [
    "''' Variables can be of diiferent\n",
    "types in python, such as integer '''"
   ]
  },
  {
   "cell_type": "code",
   "execution_count": 7,
   "id": "3902a9bd",
   "metadata": {},
   "outputs": [
    {
     "name": "stdout",
     "output_type": "stream",
     "text": [
      "JJJJ\n"
     ]
    }
   ],
   "source": [
    "''' Variables can be of diiferent\n",
    "types in python, such as integer '''\n",
    "\n",
    "print(\"JJJJ\")"
   ]
  },
  {
   "cell_type": "markdown",
   "id": "c7dfe669",
   "metadata": {},
   "source": [
    "Variables - identity memory location. Variable is used too store data of program."
   ]
  },
  {
   "cell_type": "code",
   "execution_count": 21,
   "id": "f78f528c",
   "metadata": {},
   "outputs": [
    {
     "name": "stdout",
     "output_type": "stream",
     "text": [
      "sweshika\n",
      "21\n",
      "6.0\n",
      "SVIT\n",
      "True\n"
     ]
    }
   ],
   "source": [
    "Name = \"sweshika\"\n",
    "Age = 21\n",
    "height = 6.0\n",
    "College = \"SVIT\"\n",
    "is_Student = True\n",
    "print(Name)\n",
    "print(Age) \n",
    "print(height) \n",
    "print(College)\n",
    "print(is_Student)"
   ]
  },
  {
   "cell_type": "code",
   "execution_count": 24,
   "id": "5bc39135",
   "metadata": {},
   "outputs": [
    {
     "name": "stdout",
     "output_type": "stream",
     "text": [
      "52\n"
     ]
    }
   ],
   "source": [
    "# Python allows you to assign values to variable in a single line\n",
    "\n",
    "x,y,z = 10,52,45\n",
    "print(y)"
   ]
  },
  {
   "cell_type": "code",
   "execution_count": 25,
   "id": "4e335e16",
   "metadata": {},
   "outputs": [
    {
     "name": "stdout",
     "output_type": "stream",
     "text": [
      "a value = 100\n"
     ]
    }
   ],
   "source": [
    "# Print a value using f-string :\n",
    "\n",
    "a = 100\n",
    "print(f\"a value = {a}\")"
   ]
  },
  {
   "cell_type": "code",
   "execution_count": 29,
   "id": "72507a20",
   "metadata": {},
   "outputs": [
    {
     "name": "stdout",
     "output_type": "stream",
     "text": [
      "a:45 , b:12 , c:78\n"
     ]
    }
   ],
   "source": [
    "# Declare varibles in same line using f-string:\n",
    "\n",
    "a,b,c = 45,12,78\n",
    "print(f\"a:{a} , b:{b} , c:{c}\")"
   ]
  },
  {
   "cell_type": "code",
   "execution_count": 42,
   "id": "39334e80",
   "metadata": {},
   "outputs": [
    {
     "name": "stdout",
     "output_type": "stream",
     "text": [
      "Details : emp_num:102\n",
      "emp_name : Waste Manish\n",
      "emp_salary:120000\n",
      "emp_gender:Dont know\n",
      "emp_married:True\n"
     ]
    }
   ],
   "source": [
    "# Declare and print details of employee :\n",
    "emp_num = 102\n",
    "emp_name = \"Waste Manish\"\n",
    "emp_salary = 120000\n",
    "emp_gender = \"Dont know\"\n",
    "emp_married = True\n",
    "#print(\"Details of employee :\",emp_num,emp_name,emp_salary,emp_gender,emp_married)\n",
    "# using f-string\n",
    "print(f\"Details : emp_num:{emp_num}\\nemp_name : {emp_name}\\nemp_salary:{emp_salary}\\nemp_gender:{emp_gender}\\nemp_married:{emp_married}\")"
   ]
  },
  {
   "cell_type": "markdown",
   "id": "e040567a",
   "metadata": {},
   "source": [
    "# DATA TYPES:"
   ]
  },
  {
   "cell_type": "markdown",
   "id": "19aea0b6",
   "metadata": {},
   "source": [
    "Data Types : variables can store different types of data \n",
    "    \n",
    "    Text type : str\n",
    "    Numeric Types : int,float,complex\n",
    "    Sequence Types : list,tuple,range\n",
    "    MApping type : dict\n",
    "    Set Types : set,frozenset\n",
    "    Boolean Types: Bool(True or False)"
   ]
  },
  {
   "cell_type": "code",
   "execution_count": 47,
   "id": "7fe8e486",
   "metadata": {},
   "outputs": [
    {
     "name": "stdout",
     "output_type": "stream",
     "text": [
      "<class 'str'>\n",
      "<class 'int'>\n",
      "<class 'float'>\n",
      "<class 'str'>\n",
      "<class 'complex'>\n",
      "<class 'bool'>\n",
      "<class 'NoneType'>\n",
      "<class 'bool'>\n",
      "<class 'list'>\n",
      "<class 'tuple'>\n",
      "<class 'dict'>\n",
      "<class 'set'>\n"
     ]
    }
   ],
   "source": [
    "# Assign different type of values to variable and print its type:\n",
    "\n",
    "a = \"Sweshika\"\n",
    "b = 1200\n",
    "c = 6.90\n",
    "d = \"2222\"\n",
    "e = 5+8j\n",
    "f = True\n",
    "g = None\n",
    "h = False\n",
    "i = [45,\"sws\",5566]\n",
    "j = (78,45,11111)\n",
    "k = {1:\"S\",2:\"P\",3:\"R\"}\n",
    "l = {12,45,\"SWE\"}\n",
    "print(type(a))\n",
    "print(type(b))\n",
    "print(type(c))\n",
    "print(type(d))\n",
    "print(type(e))\n",
    "print(type(f))\n",
    "print(type(g))\n",
    "print(type(h))\n",
    "print(type(i))\n",
    "print(type(j))\n",
    "print(type(k))\n",
    "print(type(l))"
   ]
  },
  {
   "cell_type": "markdown",
   "id": "73b6d4fa",
   "metadata": {},
   "source": [
    "<h3> STRINGS </h3>"
   ]
  },
  {
   "cell_type": "markdown",
   "id": "3a1fa4d5",
   "metadata": {},
   "source": [
    "<b>IT is a collection of alphabets, words or other characters.\n",
    "anything inside a quotation is a string. we can use single nd double quotation to declare strings but triple quotation are used to define mltiple lines.</b>"
   ]
  },
  {
   "cell_type": "code",
   "execution_count": 51,
   "id": "ddfa588a",
   "metadata": {},
   "outputs": [
    {
     "name": "stdout",
     "output_type": "stream",
     "text": [
      "Welcome\n"
     ]
    }
   ],
   "source": [
    "a = \"Welcome\"\n",
    "print(a)"
   ]
  },
  {
   "cell_type": "markdown",
   "id": "fc74d574",
   "metadata": {},
   "source": [
    "<b>String Opeartions:</b>"
   ]
  },
  {
   "cell_type": "markdown",
   "id": "9079354f",
   "metadata": {},
   "source": [
    "1. String Concatenation(+) : adding one variable to another variable"
   ]
  },
  {
   "cell_type": "code",
   "execution_count": 52,
   "id": "9f814ad7",
   "metadata": {},
   "outputs": [
    {
     "name": "stdout",
     "output_type": "stream",
     "text": [
      "Welcomee Homee\n"
     ]
    }
   ],
   "source": [
    "a = \"Welcomee\"\n",
    "b = \"Homee\"\n",
    "c = a+\" \"+b\n",
    "print(c)"
   ]
  },
  {
   "cell_type": "markdown",
   "id": "731c0f3d",
   "metadata": {},
   "source": [
    "2. String Multiplication(*) : multiplying one variable to required times."
   ]
  },
  {
   "cell_type": "code",
   "execution_count": 58,
   "id": "d4b0bc11",
   "metadata": {},
   "outputs": [
    {
     "name": "stdout",
     "output_type": "stream",
     "text": [
      "SweshikaSweshikaSweshikaSweshikaSweshika\n",
      "pythonpythonpython\n"
     ]
    }
   ],
   "source": [
    "s = \"Sweshika\"\n",
    "f = 2\n",
    "w = 5*s\n",
    "print(w)\n",
    "print(\"python\"*3)"
   ]
  },
  {
   "cell_type": "code",
   "execution_count": 56,
   "id": "dd18361a",
   "metadata": {},
   "outputs": [
    {
     "name": "stdout",
     "output_type": "stream",
     "text": [
      "SweshikaSweshika\n"
     ]
    }
   ],
   "source": [
    "s = \"Sweshika\"\n",
    "f = 2\n",
    "print(s*f)"
   ]
  },
  {
   "cell_type": "code",
   "execution_count": 57,
   "id": "78134ab4",
   "metadata": {},
   "outputs": [
    {
     "name": "stdout",
     "output_type": "stream",
     "text": [
      "nikk\n",
      "nikk\n",
      "nikk\n",
      "nikk\n",
      "\n"
     ]
    }
   ],
   "source": [
    "print(\"nikk\\n\"*4)"
   ]
  },
  {
   "cell_type": "markdown",
   "id": "112bb23c",
   "metadata": {},
   "source": [
    "3. String Length: The len() function returns the length of a string"
   ]
  },
  {
   "cell_type": "code",
   "execution_count": 3,
   "id": "e7e8b1c1",
   "metadata": {},
   "outputs": [
    {
     "name": "stdout",
     "output_type": "stream",
     "text": [
      "8\n",
      "24\n"
     ]
    }
   ],
   "source": [
    "name = \"SWESHIKA\"\n",
    "school = \"ST Alphonsas high school\"\n",
    "print(len(name))\n",
    "print(len(school))"
   ]
  },
  {
   "cell_type": "markdown",
   "id": "86df89c6",
   "metadata": {},
   "source": [
    "Membership operators and Check strings (Both are same)"
   ]
  },
  {
   "cell_type": "markdown",
   "id": "216583bb",
   "metadata": {},
   "source": [
    "3.1. Check string: It returns true or false if given variable is present. we use \"in\"."
   ]
  },
  {
   "cell_type": "code",
   "execution_count": 4,
   "id": "d29b9f4c",
   "metadata": {},
   "outputs": [
    {
     "name": "stdout",
     "output_type": "stream",
     "text": [
      "True\n"
     ]
    }
   ],
   "source": [
    "a = \"Being Consistent is important\"\n",
    "print(\"Being\" in a)"
   ]
  },
  {
   "cell_type": "code",
   "execution_count": 5,
   "id": "3e05eac1",
   "metadata": {},
   "outputs": [
    {
     "name": "stdout",
     "output_type": "stream",
     "text": [
      "False\n"
     ]
    }
   ],
   "source": [
    "b = \"Pink Purple\"\n",
    "print(\"blue\" in b)"
   ]
  },
  {
   "cell_type": "markdown",
   "id": "76c3ec1d",
   "metadata": {},
   "source": [
    "3.2 Check if not : It returns true or false if given variable is present. we use \"not in\"."
   ]
  },
  {
   "cell_type": "code",
   "execution_count": 7,
   "id": "65191ef6",
   "metadata": {},
   "outputs": [
    {
     "name": "stdout",
     "output_type": "stream",
     "text": [
      "True\n"
     ]
    }
   ],
   "source": [
    "c = \"Blue Black\"\n",
    "print(\"pink\" not in c)"
   ]
  },
  {
   "cell_type": "code",
   "execution_count": 9,
   "id": "5b9ff30d",
   "metadata": {},
   "outputs": [
    {
     "name": "stdout",
     "output_type": "stream",
     "text": [
      "True\n",
      "False\n"
     ]
    }
   ],
   "source": [
    "d = 55,45,7788,1200\n",
    "print(22 not in d)\n",
    "print(1200 not in d)"
   ]
  },
  {
   "cell_type": "markdown",
   "id": "9b938ba8",
   "metadata": {},
   "source": [
    "4. string Quotations:"
   ]
  },
  {
   "cell_type": "code",
   "execution_count": 21,
   "id": "7b7b948e",
   "metadata": {},
   "outputs": [
    {
     "name": "stdout",
     "output_type": "stream",
     "text": [
      "HEllo, 'I am very Happy'\n",
      "Please, \"Leave me alone\"\n",
      "\n",
      "Hello Python\n",
      "It is simple and\n",
      "syntax free langugae\n"
     ]
    }
   ],
   "source": [
    "print(\"HEllo, 'I am very Happy'\")\n",
    "print('Please, \"Leave me alone\"\\n')\n",
    "\n",
    "x = \"\"\"Hello Python\n",
    "It is simple and\n",
    "syntax free langugae\"\"\"\n",
    "print(x)"
   ]
  },
  {
   "cell_type": "code",
   "execution_count": null,
   "id": "9d6b95bc",
   "metadata": {},
   "outputs": [],
   "source": []
  }
 ],
 "metadata": {
  "kernelspec": {
   "display_name": "Python 3 (ipykernel)",
   "language": "python",
   "name": "python3"
  },
  "language_info": {
   "codemirror_mode": {
    "name": "ipython",
    "version": 3
   },
   "file_extension": ".py",
   "mimetype": "text/x-python",
   "name": "python",
   "nbconvert_exporter": "python",
   "pygments_lexer": "ipython3",
   "version": "3.9.12"
  }
 },
 "nbformat": 4,
 "nbformat_minor": 5
}
