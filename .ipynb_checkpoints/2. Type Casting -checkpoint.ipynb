{
 "cells": [
  {
   "cell_type": "markdown",
   "id": "cac73c80",
   "metadata": {},
   "source": [
    "<b>Type Casting</b>\n",
    "\n",
    "Conversion of one data type to another data type is called Type Casting or data conversion. There are some functions which used for python type casting.\n",
    "\n",
    "int()\n",
    "\n",
    "float()\n",
    "\n",
    "str()\n",
    "\n",
    "bool()\n",
    "\n",
    "list()\n",
    "\n",
    "tuple()\n",
    "\n",
    "set()"
   ]
  },
  {
   "cell_type": "markdown",
   "id": "3f8e90b5",
   "metadata": {},
   "source": [
    "1. Convert int to float"
   ]
  },
  {
   "cell_type": "code",
   "execution_count": 3,
   "id": "46809c67",
   "metadata": {},
   "outputs": [
    {
     "name": "stdout",
     "output_type": "stream",
     "text": [
      "1455 <class 'int'>\n",
      "1455.0 <class 'float'>\n"
     ]
    }
   ],
   "source": [
    "x = 1455\n",
    "print(x,type(x))\n",
    "y = float(x)\n",
    "print(y,type(y))"
   ]
  },
  {
   "cell_type": "markdown",
   "id": "30bec51c",
   "metadata": {},
   "source": [
    "2. Convert float to int"
   ]
  },
  {
   "cell_type": "code",
   "execution_count": 5,
   "id": "861cd61b",
   "metadata": {},
   "outputs": [
    {
     "name": "stdout",
     "output_type": "stream",
     "text": [
      "55\n",
      "<class 'int'>\n"
     ]
    }
   ],
   "source": [
    "s = 55.1222\n",
    "s = int(s)\n",
    "print(s)\n",
    "print(type(s))"
   ]
  },
  {
   "cell_type": "markdown",
   "id": "c968d025",
   "metadata": {},
   "source": [
    "3. Convert int to str"
   ]
  },
  {
   "cell_type": "code",
   "execution_count": 7,
   "id": "de17c4c4",
   "metadata": {},
   "outputs": [
    {
     "name": "stdout",
     "output_type": "stream",
     "text": [
      "4455 <class 'str'>\n"
     ]
    }
   ],
   "source": [
    "s = 4455\n",
    "d = str(s)\n",
    "print(d,type(d))"
   ]
  },
  {
   "cell_type": "markdown",
   "id": "4b5bf2cf",
   "metadata": {},
   "source": [
    "4. Convert float to str"
   ]
  },
  {
   "cell_type": "code",
   "execution_count": 8,
   "id": "1cbf1486",
   "metadata": {},
   "outputs": [
    {
     "name": "stdout",
     "output_type": "stream",
     "text": [
      "855.1123 <class 'str'>\n"
     ]
    }
   ],
   "source": [
    "m = 855.1123\n",
    "n = str(m)\n",
    "print(n,type(n))"
   ]
  },
  {
   "cell_type": "markdown",
   "id": "433d3949",
   "metadata": {},
   "source": [
    "5. Convert str(num) to int"
   ]
  },
  {
   "cell_type": "code",
   "execution_count": 9,
   "id": "72f85198",
   "metadata": {},
   "outputs": [
    {
     "name": "stdout",
     "output_type": "stream",
     "text": [
      "5566 <class 'int'>\n"
     ]
    }
   ],
   "source": [
    "b = \"5566\"\n",
    "c = int(b)\n",
    "print(c,type(c))"
   ]
  },
  {
   "cell_type": "markdown",
   "id": "72c90021",
   "metadata": {},
   "source": [
    "6. Convert str(float) to float"
   ]
  },
  {
   "cell_type": "code",
   "execution_count": 11,
   "id": "54f8c697",
   "metadata": {},
   "outputs": [
    {
     "name": "stdout",
     "output_type": "stream",
     "text": [
      "445.22 <class 'float'>\n"
     ]
    }
   ],
   "source": [
    "x = \"445.22\"\n",
    "y = float(x)\n",
    "print(y,type(y))"
   ]
  },
  {
   "cell_type": "markdown",
   "id": "0028ff08",
   "metadata": {},
   "source": [
    "7. Convert into boolean"
   ]
  },
  {
   "cell_type": "code",
   "execution_count": 25,
   "id": "d76cdd85",
   "metadata": {},
   "outputs": [
    {
     "name": "stdout",
     "output_type": "stream",
     "text": [
      "True\n",
      "True\n",
      "True\n",
      "True\n",
      "False\n",
      "False\n",
      "False\n",
      "True\n",
      "10Swe\n",
      "a is {65.22}\n",
      "55\n"
     ]
    }
   ],
   "source": [
    "a = 10\n",
    "b = \"Swe\"\n",
    "c = 55.22\n",
    "d = True\n",
    "j = [112.3255,44,787]\n",
    "f = 0\n",
    "e = None\n",
    "g = False\n",
    "print(bool(a))\n",
    "print(bool(b))\n",
    "print(bool(c))\n",
    "print(bool(d))\n",
    "print(bool(e))\n",
    "print(bool(f))\n",
    "print(bool(g))\n",
    "print(bool(j))\n",
    "print(str(a)+b)\n",
    "print(f\"a is\",{a+c})\n",
    "print(int(c))"
   ]
  },
  {
   "cell_type": "markdown",
   "id": "4b1675c6",
   "metadata": {},
   "source": [
    "bin() - Returns binaty value for specified decimal value"
   ]
  },
  {
   "cell_type": "code",
   "execution_count": 46,
   "id": "3ee08b38",
   "metadata": {},
   "outputs": [
    {
     "data": {
      "text/plain": [
       "'0b1010'"
      ]
     },
     "execution_count": 46,
     "metadata": {},
     "output_type": "execute_result"
    }
   ],
   "source": [
    "bin(a) # bin() gives binary values of digits"
   ]
  },
  {
   "cell_type": "code",
   "execution_count": 42,
   "id": "a7adbd95",
   "metadata": {},
   "outputs": [
    {
     "data": {
      "text/plain": [
       "'0b1111'"
      ]
     },
     "execution_count": 42,
     "metadata": {},
     "output_type": "execute_result"
    }
   ],
   "source": [
    "bin(15)"
   ]
  },
  {
   "cell_type": "markdown",
   "id": "92f92d93",
   "metadata": {},
   "source": [
    "<b>Character System:</b>\n",
    "\n",
    "It is representation of all symbols of a language using constant integer values."
   ]
  },
  {
   "cell_type": "markdown",
   "id": "6c233e6c",
   "metadata": {},
   "source": [
    "<b>ASCII - Americans Standard code for Information Interchange</b>"
   ]
  },
  {
   "cell_type": "markdown",
   "id": "93f8af5a",
   "metadata": {},
   "source": [
    "represents all symbols 1 language using constants - it includes small,capital aplhabets,numbers,alphanumerics. \n",
    "\n",
    "The range is 0 - 255\n",
    "\n",
    "1 byte range is (0-255) - 2^8 value\n",
    "\n",
    "Hence we rep a symbol using 1byte memory"
   ]
  },
  {
   "cell_type": "markdown",
   "id": "b7f085db",
   "metadata": {},
   "source": [
    "chr() - Returns the symbol for specified integer value."
   ]
  },
  {
   "cell_type": "code",
   "execution_count": 52,
   "id": "21808ac3",
   "metadata": {},
   "outputs": [
    {
     "name": "stdout",
     "output_type": "stream",
     "text": [
      "7\n",
      "Y\n",
      "ð\n"
     ]
    }
   ],
   "source": [
    "print(chr(55))\n",
    "print(chr(89))\n",
    "print(chr(240))"
   ]
  },
  {
   "cell_type": "markdown",
   "id": "a8f82da8",
   "metadata": {},
   "source": [
    "ord() - Returns the integer,alphabet for specifed symbol"
   ]
  },
  {
   "cell_type": "code",
   "execution_count": 53,
   "id": "3fd5bbf0",
   "metadata": {},
   "outputs": [
    {
     "name": "stdout",
     "output_type": "stream",
     "text": [
      "65\n",
      "42\n",
      "122\n"
     ]
    }
   ],
   "source": [
    "print(ord('A'))\n",
    "print(ord('*'))\n",
    "print(ord('z'))"
   ]
  },
  {
   "cell_type": "code",
   "execution_count": 26,
   "id": "9ce903ab",
   "metadata": {},
   "outputs": [
    {
     "data": {
      "text/plain": [
       "55.0"
      ]
     },
     "execution_count": 26,
     "metadata": {},
     "output_type": "execute_result"
    }
   ],
   "source": [
    "float(55)"
   ]
  },
  {
   "cell_type": "code",
   "execution_count": 27,
   "id": "b19cc207",
   "metadata": {},
   "outputs": [
    {
     "data": {
      "text/plain": [
       "4445"
      ]
     },
     "execution_count": 27,
     "metadata": {},
     "output_type": "execute_result"
    }
   ],
   "source": [
    "int(4445.22)"
   ]
  },
  {
   "cell_type": "code",
   "execution_count": 29,
   "id": "6188b509",
   "metadata": {},
   "outputs": [
    {
     "data": {
      "text/plain": [
       "1.0"
      ]
     },
     "execution_count": 29,
     "metadata": {},
     "output_type": "execute_result"
    }
   ],
   "source": [
    "float(True)"
   ]
  },
  {
   "cell_type": "code",
   "execution_count": 30,
   "id": "5d42f729",
   "metadata": {},
   "outputs": [
    {
     "data": {
      "text/plain": [
       "0.0"
      ]
     },
     "execution_count": 30,
     "metadata": {},
     "output_type": "execute_result"
    }
   ],
   "source": [
    "float(False)"
   ]
  },
  {
   "cell_type": "code",
   "execution_count": 31,
   "id": "78785431",
   "metadata": {},
   "outputs": [
    {
     "data": {
      "text/plain": [
       "True"
      ]
     },
     "execution_count": 31,
     "metadata": {},
     "output_type": "execute_result"
    }
   ],
   "source": [
    "bool(\" \")"
   ]
  },
  {
   "cell_type": "code",
   "execution_count": 32,
   "id": "cd4f0d29",
   "metadata": {},
   "outputs": [
    {
     "data": {
      "text/plain": [
       "False"
      ]
     },
     "execution_count": 32,
     "metadata": {},
     "output_type": "execute_result"
    }
   ],
   "source": [
    "bool(\"\")"
   ]
  },
  {
   "cell_type": "code",
   "execution_count": 33,
   "id": "36514471",
   "metadata": {},
   "outputs": [
    {
     "data": {
      "text/plain": [
       "True"
      ]
     },
     "execution_count": 33,
     "metadata": {},
     "output_type": "execute_result"
    }
   ],
   "source": [
    "bool(\"False\")"
   ]
  },
  {
   "cell_type": "code",
   "execution_count": 34,
   "id": "702f24bc",
   "metadata": {},
   "outputs": [
    {
     "data": {
      "text/plain": [
       "True"
      ]
     },
     "execution_count": 34,
     "metadata": {},
     "output_type": "execute_result"
    }
   ],
   "source": [
    "bool(45450121)"
   ]
  },
  {
   "cell_type": "code",
   "execution_count": 35,
   "id": "b983ae6c",
   "metadata": {},
   "outputs": [
    {
     "data": {
      "text/plain": [
       "False"
      ]
     },
     "execution_count": 35,
     "metadata": {},
     "output_type": "execute_result"
    }
   ],
   "source": [
    "bool(0)"
   ]
  },
  {
   "cell_type": "code",
   "execution_count": 36,
   "id": "e3e863a3",
   "metadata": {},
   "outputs": [
    {
     "data": {
      "text/plain": [
       "'True'"
      ]
     },
     "execution_count": 36,
     "metadata": {},
     "output_type": "execute_result"
    }
   ],
   "source": [
    "str(True)"
   ]
  },
  {
   "cell_type": "code",
   "execution_count": 37,
   "id": "edf692fb",
   "metadata": {},
   "outputs": [
    {
     "data": {
      "text/plain": [
       "'45'"
      ]
     },
     "execution_count": 37,
     "metadata": {},
     "output_type": "execute_result"
    }
   ],
   "source": [
    "str(45)"
   ]
  },
  {
   "cell_type": "code",
   "execution_count": 38,
   "id": "d726b7b2",
   "metadata": {},
   "outputs": [
    {
     "data": {
      "text/plain": [
       "'0b1011'"
      ]
     },
     "execution_count": 38,
     "metadata": {},
     "output_type": "execute_result"
    }
   ],
   "source": [
    "bin(11)"
   ]
  },
  {
   "cell_type": "code",
   "execution_count": 39,
   "id": "43b8a616",
   "metadata": {},
   "outputs": [
    {
     "data": {
      "text/plain": [
       "'0b1010'"
      ]
     },
     "execution_count": 39,
     "metadata": {},
     "output_type": "execute_result"
    }
   ],
   "source": [
    "bin(10)"
   ]
  },
  {
   "cell_type": "code",
   "execution_count": 54,
   "id": "2ba646b0",
   "metadata": {},
   "outputs": [
    {
     "data": {
      "text/plain": [
       "41"
      ]
     },
     "execution_count": 54,
     "metadata": {},
     "output_type": "execute_result"
    }
   ],
   "source": [
    "ord(\")\")"
   ]
  },
  {
   "cell_type": "code",
   "execution_count": 55,
   "id": "971180df",
   "metadata": {},
   "outputs": [
    {
     "data": {
      "text/plain": [
       "'}'"
      ]
     },
     "execution_count": 55,
     "metadata": {},
     "output_type": "execute_result"
    }
   ],
   "source": [
    "chr(125)"
   ]
  },
  {
   "cell_type": "code",
   "execution_count": null,
   "id": "98c74527",
   "metadata": {},
   "outputs": [],
   "source": []
  }
 ],
 "metadata": {
  "kernelspec": {
   "display_name": "Python 3 (ipykernel)",
   "language": "python",
   "name": "python3"
  },
  "language_info": {
   "codemirror_mode": {
    "name": "ipython",
    "version": 3
   },
   "file_extension": ".py",
   "mimetype": "text/x-python",
   "name": "python",
   "nbconvert_exporter": "python",
   "pygments_lexer": "ipython3",
   "version": "3.9.12"
  }
 },
 "nbformat": 4,
 "nbformat_minor": 5
}
