{
 "cells": [
  {
   "cell_type": "markdown",
   "id": "878ca6fa",
   "metadata": {},
   "source": [
    "<b>Operator</b> - Operator is a symbol that performs operation on one or more operators.\n",
    "\n",
    "the member on which operator operates is called the operand\n",
    "\n",
    "In the expression a = 5+9\n",
    "\n",
    "              a,5,9 are operands\n",
    "              \n",
    "              =,+ are operators"
   ]
  },
  {
   "cell_type": "markdown",
   "id": "950a8e93",
   "metadata": {},
   "source": [
    "<b> 1. Arithmetic Operators : Operators are +  ,  -  ,  *  ,  /  ,  %  ,  //  ,  **  </b>\n"
   ]
  },
  {
   "cell_type": "code",
   "execution_count": 4,
   "id": "b557f2b5",
   "metadata": {},
   "outputs": [
    {
     "name": "stdout",
     "output_type": "stream",
     "text": [
      "Addition of 8 & 7 is 15\n",
      "Subtraction of 8 & 7 is 1\n",
      "Multiplication of 8 & 7 is 56\n",
      "Division of 8 & 7 is 1.1428571428571428\n",
      "Floor Division of 8 & 7 is 1\n",
      "Modulus of 8 & 7 is 1\n",
      "Power of 8 & 7 is 2097152\n"
     ]
    }
   ],
   "source": [
    "# Perform all Arithmetic operators\n",
    "\n",
    "a = 8\n",
    "b = 7\n",
    "print(\"Addition of\",a,\"&\",b,\"is\",a+b)\n",
    "print(\"Subtraction of\",a,\"&\",b,\"is\",a-b)\n",
    "print(\"Multiplication of\",a,\"&\",b,\"is\",a*b)\n",
    "print(\"Division of\",a,\"&\",b,\"is\",a/b)\n",
    "print(\"Floor Division of\",a,\"&\",b,\"is\",a//b)\n",
    "print(\"Modulus of\",a,\"&\",b,\"is\",a%b)\n",
    "print(\"Power of\",a,\"&\",b,\"is\",a**b)"
   ]
  },
  {
   "cell_type": "code",
   "execution_count": 8,
   "id": "5111696a",
   "metadata": {},
   "outputs": [
    {
     "name": "stdout",
     "output_type": "stream",
     "text": [
      "Sum = 119\n"
     ]
    }
   ],
   "source": [
    "# Adding of 2 numbers and Display with fString:\n",
    "\n",
    "w = 77\n",
    "n = 42\n",
    "print(f\"Sum = {w+n}\")"
   ]
  },
  {
   "cell_type": "code",
   "execution_count": 12,
   "id": "59ae645e",
   "metadata": {},
   "outputs": [
    {
     "name": "stdout",
     "output_type": "stream",
     "text": [
      "2\n"
     ]
    }
   ],
   "source": [
    "# Display Last digit of given number: \n",
    "\n",
    "l = 456852 \n",
    "m = l%10   # given variable % 10 - for last single digit , for 2 digits %100...\n",
    "print(m)"
   ]
  },
  {
   "cell_type": "code",
   "execution_count": 15,
   "id": "9a7739db",
   "metadata": {},
   "outputs": [
    {
     "name": "stdout",
     "output_type": "stream",
     "text": [
      "556\n"
     ]
    }
   ],
   "source": [
    "# Remove last digit from the given number: \n",
    "\n",
    "p = 556211\n",
    "q = p//10 # given variable // 10 - to remove last single digit , for 2 digits//100..\n",
    "print(q)"
   ]
  },
  {
   "cell_type": "code",
   "execution_count": 16,
   "id": "82cafa3a",
   "metadata": {},
   "outputs": [
    {
     "name": "stdout",
     "output_type": "stream",
     "text": [
      "Sum is 899\n",
      "avg is 224.75\n"
     ]
    }
   ],
   "source": [
    "# Average of 4 numbers :\n",
    "\n",
    "a , b, c, d = 45, 22 ,45 ,787\n",
    "sum = a+b+c+d\n",
    "avg = sum/4\n",
    "print(f\"Sum is {sum}\")\n",
    "print(f\"avg is {avg}\")"
   ]
  },
  {
   "cell_type": "code",
   "execution_count": 19,
   "id": "55be29e2",
   "metadata": {},
   "outputs": [
    {
     "name": "stdout",
     "output_type": "stream",
     "text": [
      "Before Swap : (45, 78)\n",
      "After Swap : (78, 45)\n"
     ]
    }
   ],
   "source": [
    "# Swapping of 2 numbers :\n",
    "\n",
    "c, d = 45,78\n",
    "print(f\"Before Swap : {c,d}\")\n",
    "c ,d = d, c\n",
    "print(f\"After Swap : {c,d}\")"
   ]
  },
  {
   "cell_type": "code",
   "execution_count": 21,
   "id": "5b260a7a",
   "metadata": {},
   "outputs": [
    {
     "name": "stdout",
     "output_type": "stream",
     "text": [
      "11 77\n",
      "11\n",
      "77\n"
     ]
    }
   ],
   "source": [
    "# Swapping of 2 numbers by using third variable\n",
    "\n",
    "a = 77\n",
    "b = 11\n",
    "c = a\n",
    "a = b\n",
    "b = c\n",
    "print(a,b)\n",
    "print(a)\n",
    "print(b)"
   ]
  },
  {
   "cell_type": "code",
   "execution_count": 27,
   "id": "836ef8f7",
   "metadata": {},
   "outputs": [
    {
     "name": "stdout",
     "output_type": "stream",
     "text": [
      "55\n"
     ]
    }
   ],
   "source": [
    "# Find the sum of first n numbers :\n",
    "\n",
    "n = 10\n",
    "sum = (n*(n+1))//2\n",
    "print(sum)"
   ]
  },
  {
   "cell_type": "code",
   "execution_count": 28,
   "id": "e3052730",
   "metadata": {},
   "outputs": [
    {
     "name": "stdout",
     "output_type": "stream",
     "text": [
      "Total price is 5000\n"
     ]
    }
   ],
   "source": [
    "# Find the total price for quantity of fruits purchased:\n",
    "\n",
    "fruits = 50\n",
    "price = 100\n",
    "print(f\"Total price is {fruits*price}\")"
   ]
  },
  {
   "cell_type": "markdown",
   "id": "5a2f33e6",
   "metadata": {},
   "source": [
    "<b> Relational Operators </b> \n",
    "        <  ,  >  ,  <=  ,  >=  ,   ==  ,   != \n",
    "    \n",
    "    These operators validate the relation among operands and return boolean value\n",
    "    \n",
    "    If relation is valid returns True or False"
   ]
  },
  {
   "cell_type": "code",
   "execution_count": 30,
   "id": "ce2618cb",
   "metadata": {},
   "outputs": [
    {
     "name": "stdout",
     "output_type": "stream",
     "text": [
      "True\n",
      "False\n",
      "True\n",
      "False\n",
      "False\n",
      "True\n"
     ]
    }
   ],
   "source": [
    "# Program to understand Relational Operators\n",
    "\n",
    "a = 8\n",
    "b = 3\n",
    "print(a>b)\n",
    "print(a<b)\n",
    "print(a>=b)\n",
    "print(a<=b)\n",
    "print(a==b)\n",
    "print(a!=b)"
   ]
  },
  {
   "cell_type": "code",
   "execution_count": 34,
   "id": "911e47a7",
   "metadata": {},
   "outputs": [
    {
     "name": "stdout",
     "output_type": "stream",
     "text": [
      "Enter a number :6\n",
      "Positive\n"
     ]
    }
   ],
   "source": [
    "# Condition to check the number is postive or negative\n",
    "\n",
    "a = int(input(\"Enter a number :\"))\n",
    "if a>=0:\n",
    "    print(\"Positive\")\n",
    "else:\n",
    "    print(\"Negative\")"
   ]
  },
  {
   "cell_type": "code",
   "execution_count": 36,
   "id": "95f25002",
   "metadata": {},
   "outputs": [
    {
     "name": "stdout",
     "output_type": "stream",
     "text": [
      "a and b are not equal\n"
     ]
    }
   ],
   "source": [
    "# Condition to check the 2 numbers are equal\n",
    "\n",
    "a = 78\n",
    "b = 88\n",
    "if a==b:\n",
    "    print(f\"a and b are equal\")\n",
    "else:\n",
    "    print(f\"a and b are not equal\")    "
   ]
  },
  {
   "cell_type": "code",
   "execution_count": 38,
   "id": "3ace4576",
   "metadata": {},
   "outputs": [
    {
     "name": "stdout",
     "output_type": "stream",
     "text": [
      "x is not greater than y\n"
     ]
    }
   ],
   "source": [
    "# Condition to check first num greater than second num\n",
    "\n",
    "x = 55964\n",
    "y = 77854\n",
    "if x>y:\n",
    "    print('x is greater than y')\n",
    "else:\n",
    "    print('x is not greater than y')    "
   ]
  },
  {
   "cell_type": "code",
   "execution_count": 40,
   "id": "ea2ec537",
   "metadata": {},
   "outputs": [
    {
     "name": "stdout",
     "output_type": "stream",
     "text": [
      "first number not equals to second number\n"
     ]
    }
   ],
   "source": [
    "# Condition to check Square of forst number equals to second number\n",
    "\n",
    "s = 2\n",
    "w = 45\n",
    "if s**2==w:\n",
    "    print(\"first number equals to second number\")\n",
    "else:\n",
    "    print(\"first number not equals to second number\")"
   ]
  },
  {
   "cell_type": "code",
   "execution_count": 43,
   "id": "82609169",
   "metadata": {},
   "outputs": [
    {
     "name": "stdout",
     "output_type": "stream",
     "text": [
      "Equal to 10\n"
     ]
    }
   ],
   "source": [
    "# Condition to check sum of 2 numbers equal to 10\n",
    "\n",
    "a = 4\n",
    "b = 6\n",
    "if a+b==10:\n",
    "    print(\"Equal to 10\")\n",
    "else:\n",
    "    print(\"Not Equal to 10\")"
   ]
  },
  {
   "cell_type": "code",
   "execution_count": 47,
   "id": "029c8b63",
   "metadata": {},
   "outputs": [
    {
     "name": "stdout",
     "output_type": "stream",
     "text": [
      "Divisible\n"
     ]
    }
   ],
   "source": [
    "# Condition to check the number divisible by 7\n",
    "\n",
    "a = 49\n",
    "if a%7==0:\n",
    "    print(\"Divisible\")\n",
    "else:\n",
    "    print(\"Not Divisible\")"
   ]
  },
  {
   "cell_type": "code",
   "execution_count": 2,
   "id": "eefd34f5",
   "metadata": {},
   "outputs": [
    {
     "name": "stdout",
     "output_type": "stream",
     "text": [
      "Enter a number :22\n",
      "even\n"
     ]
    }
   ],
   "source": [
    "# Condition to check the number is even\n",
    "\n",
    "a = int(input(\"Enter a number :\"))\n",
    "if a%2==0:\n",
    "    print(\"even\")\n",
    "else:\n",
    "    print(\"odd\")"
   ]
  },
  {
   "cell_type": "code",
   "execution_count": 10,
   "id": "2f45c8d7",
   "metadata": {},
   "outputs": [
    {
     "name": "stdout",
     "output_type": "stream",
     "text": [
      "Enter a number :45210\n",
      "Its zero\n"
     ]
    }
   ],
   "source": [
    "# COndition to check the last digit of given number is 0\n",
    "\n",
    "a = int(input(\"Enter a number :\"))\n",
    "if a%10==0:\n",
    "    print(\"Its zero\")\n",
    "else:\n",
    "    print(\"Its not zero last digit is\",a%10)    "
   ]
  },
  {
   "cell_type": "code",
   "execution_count": 16,
   "id": "36b66546",
   "metadata": {},
   "outputs": [
    {
     "name": "stdout",
     "output_type": "stream",
     "text": [
      "Enter a number :45\n",
      "Its not divisible\n"
     ]
    }
   ],
   "source": [
    "# Condition to check the last digit of a number is divisible by 3\n",
    "\n",
    "x = int(input(\"Enter a number :\"))\n",
    "if ((x%10)%3==0):\n",
    "    print(\"Its divisible\")\n",
    "else:\n",
    "    print(\"Its not divisible\")"
   ]
  },
  {
   "cell_type": "code",
   "execution_count": 18,
   "id": "ff94ba59",
   "metadata": {},
   "outputs": [
    {
     "name": "stdout",
     "output_type": "stream",
     "text": [
      "Enter a number :2\n",
      "Enter a number :2\n",
      "EQ\n"
     ]
    }
   ],
   "source": [
    "# Condition to check the multiplication of first 2 numbers equal to sqaure of 3rd number\n",
    "\n",
    "x = int(input(\"Enter a number :\"))\n",
    "y = int(input(\"Enter a number :\"))\n",
    "z = x*y\n",
    "a = x**y\n",
    "if z==a:\n",
    "    print(\"EQ\")\n",
    "else:\n",
    "    print(\"NOT EQ\")"
   ]
  },
  {
   "cell_type": "code",
   "execution_count": 20,
   "id": "741b068f",
   "metadata": {},
   "outputs": [
    {
     "name": "stdout",
     "output_type": "stream",
     "text": [
      "Enter a number :4545\n",
      "Enter a number :25635\n",
      "EQ\n"
     ]
    }
   ],
   "source": [
    "# Condition to check the last digits of both numbers equal\n",
    "\n",
    "x = int(input(\"Enter a number :\"))\n",
    "y = int(input(\"Enter a number :\"))\n",
    "z = x%10\n",
    "c = y%10\n",
    "if z==c:\n",
    "    print(\"EQ\")\n",
    "else:\n",
    "    print(\"NOT EQ\")"
   ]
  },
  {
   "cell_type": "code",
   "execution_count": 22,
   "id": "aba4741b",
   "metadata": {},
   "outputs": [
    {
     "name": "stdout",
     "output_type": "stream",
     "text": [
      "Enter a number :124\n",
      "Enter a number :125\n",
      "NOT EQ\n"
     ]
    }
   ],
   "source": [
    "# Condition to check the sum of last digits of given two numbers is equals to 10\n",
    "\n",
    "x = int(input(\"Enter a number :\"))\n",
    "y = int(input(\"Enter a number :\"))\n",
    "z = x%10\n",
    "c = y%10\n",
    "v = z+c\n",
    "if v==10:\n",
    "    print(\"EQ\")\n",
    "else:\n",
    "    print(\"NOT EQ\")"
   ]
  },
  {
   "cell_type": "code",
   "execution_count": 25,
   "id": "80ea25a8",
   "metadata": {},
   "outputs": [
    {
     "name": "stdout",
     "output_type": "stream",
     "text": [
      "Enter a number :85\n",
      "Enter a number :90\n",
      "Enter a number :74\n",
      "Enter a number :89\n",
      "PASS\n"
     ]
    }
   ],
   "source": [
    "# Condition to check the average of 4 subjects marks greater than 60\n",
    "\n",
    "a = int(input(\"Enter a number :\"))\n",
    "b = int(input(\"Enter a number :\"))\n",
    "c = int(input(\"Enter a number :\"))\n",
    "d = int(input(\"Enter a number :\"))\n",
    "e = a+b+c+d/4\n",
    "if e>=60:\n",
    "    print(\"PASS\")\n",
    "else:\n",
    "    print(\"FAIL\")"
   ]
  },
  {
   "cell_type": "code",
   "execution_count": 36,
   "id": "813b28b1",
   "metadata": {},
   "outputs": [
    {
     "name": "stdout",
     "output_type": "stream",
     "text": [
      "Enter a number :11\n",
      "Enter a number :11\n",
      "Enter a number :22\n",
      "Not EQ\n"
     ]
    }
   ],
   "source": [
    "# Condition to check the sum of first 2 nums equals to last digit of 3rd num\n",
    "\n",
    "a = int(input(\"Enter a number :\"))\n",
    "b = int(input(\"Enter a number :\"))\n",
    "c = int(input(\"Enter a number :\")) \n",
    "\n",
    "d = a+b\n",
    "if d==c%10:\n",
    "    print(\"EQ\")\n",
    "else:\n",
    "    print(\"Not EQ\")"
   ]
  },
  {
   "cell_type": "code",
   "execution_count": 43,
   "id": "b976d02b",
   "metadata": {},
   "outputs": [
    {
     "name": "stdout",
     "output_type": "stream",
     "text": [
      "Enter a number :10\n",
      "Enter a number :10\n",
      "Enter a number :10\n",
      "EQ\n"
     ]
    }
   ],
   "source": [
    "# Condition to check the average of 3 numbers equals to first number\n",
    "\n",
    "a = int(input(\"Enter a number :\"))\n",
    "b = int(input(\"Enter a number :\"))\n",
    "c = int(input(\"Enter a number :\")) \n",
    "\n",
    "d = (a+b+c)/3\n",
    "if d==a:\n",
    "    print(\"EQ\")\n",
    "else:\n",
    "    print(\"NT EQ\")"
   ]
  },
  {
   "cell_type": "code",
   "execution_count": 46,
   "id": "9acbc73b",
   "metadata": {},
   "outputs": [
    {
     "name": "stdout",
     "output_type": "stream",
     "text": [
      "Enter a number :12\n",
      "DOZEN\n"
     ]
    }
   ],
   "source": [
    "# Condition to check the given quantity of fruits exactly in dozen\n",
    "\n",
    "quantity = int(input(\"Enter a number :\"))\n",
    "if quantity==12:\n",
    "    print(\"DOZEN\")\n",
    "else:\n",
    "    print(\"noo\")"
   ]
  },
  {
   "cell_type": "code",
   "execution_count": 51,
   "id": "e840b812",
   "metadata": {},
   "outputs": [
    {
     "name": "stdout",
     "output_type": "stream",
     "text": [
      "Enter a number :99\n",
      "Success\n"
     ]
    }
   ],
   "source": [
    "# Condition to check the square of last digit is greater than 10\n",
    "\n",
    "x = int(input(\"Enter a number :\"))\n",
    "if ((x%10)**2)>=10:\n",
    "    print(\"Success\")\n",
    "else:\n",
    "    print(\"Error\")"
   ]
  },
  {
   "cell_type": "code",
   "execution_count": 56,
   "id": "514660c8",
   "metadata": {},
   "outputs": [
    {
     "name": "stdout",
     "output_type": "stream",
     "text": [
      "Enter a number :33\n",
      "Divisible\n"
     ]
    }
   ],
   "source": [
    "# Condition to check square of last digit of given number divisible by 3\n",
    "\n",
    "x = int(input(\"Enter a number :\"))\n",
    "if ((((x%10)**2)%3)==0):\n",
    "    print(\"Divisible\")\n",
    "else:\n",
    "    print(\"Not Divisible\")"
   ]
  },
  {
   "cell_type": "markdown",
   "id": "4997bb14",
   "metadata": {},
   "source": [
    "<b> Logical Operators -   and  ,    or   ,   not   </b>\n",
    "              \n",
    "    Returns True or False be validating more than one expression.\n"
   ]
  },
  {
   "cell_type": "code",
   "execution_count": 5,
   "id": "d53574a3",
   "metadata": {},
   "outputs": [
    {
     "name": "stdout",
     "output_type": "stream",
     "text": [
      "Enter a num 565665\n",
      "Enter a num 232\n",
      "Enter a num 121\n",
      "565665  a is greater\n"
     ]
    }
   ],
   "source": [
    "# Condition to check first num is greater than both second and third Nums\n",
    "\n",
    "a = int(input(\"Enter a num \"))\n",
    "b = int(input(\"Enter a num \"))\n",
    "c = int(input(\"Enter a num \"))\n",
    "if a>b and a>c:\n",
    "    print(a,\" a is greater\")\n",
    "elif b>c and b>a:\n",
    "    print(b,\"b is greater\")\n",
    "else:\n",
    "    print(c,\"c is greater\")"
   ]
  },
  {
   "cell_type": "code",
   "execution_count": 7,
   "id": "84bb2b10",
   "metadata": {},
   "outputs": [
    {
     "name": "stdout",
     "output_type": "stream",
     "text": [
      "Enter a num 30\n",
      "Divisible\n"
     ]
    }
   ],
   "source": [
    "# Condition to check the number divisible by both 3 and 5\n",
    "\n",
    "a = int(input(\"Enter a num \"))\n",
    "if a%3==0 and a%5==0:\n",
    "    print(\"Divisible\")\n",
    "else:\n",
    "    print(\"Not Divisible\")"
   ]
  },
  {
   "cell_type": "code",
   "execution_count": 9,
   "id": "45927452",
   "metadata": {},
   "outputs": [
    {
     "name": "stdout",
     "output_type": "stream",
     "text": [
      "Enter a num 45\n",
      "45 is between 30 and 50\n"
     ]
    }
   ],
   "source": [
    "# Condition to check the num is between 30 and 50\n",
    "\n",
    "x = int(input(\"Enter a num \"))\n",
    "if x>=30 and x<=50:\n",
    "    print(x,\"is between 30 and 50\")\n",
    "else:\n",
    "    print(\"Plz enter crct number\")"
   ]
  },
  {
   "cell_type": "code",
   "execution_count": 14,
   "id": "6dac78c1",
   "metadata": {},
   "outputs": [
    {
     "name": "stdout",
     "output_type": "stream",
     "text": [
      "Enter a num 452\n",
      "It is a 3 digit number\n"
     ]
    }
   ],
   "source": [
    "#  Condition to check the number is 3 digit number\n",
    "\n",
    "x = int(input(\"Enter a num \"))\n",
    "y = str(x)\n",
    "if len(y)==3:\n",
    "    print(\"It is a 3 digit number\")\n",
    "else:\n",
    "    print(\"Its not 3 digit number\")"
   ]
  },
  {
   "cell_type": "code",
   "execution_count": 16,
   "id": "862590ae",
   "metadata": {},
   "outputs": [
    {
     "name": "stdout",
     "output_type": "stream",
     "text": [
      "Enter a num 12\n",
      "Enter a num 56\n",
      "Enter a num 78\n",
      "Enter a num 96\n",
      "Enter a num 69\n",
      "Failed in one or more subjects\n"
     ]
    }
   ],
   "source": [
    "#  Condition to check the student passed in all 5 subjects\n",
    "\n",
    "a = int(input(\"Enter a num \"))\n",
    "b = int(input(\"Enter a num \"))\n",
    "c = int(input(\"Enter a num \"))\n",
    "d = int(input(\"Enter a num \"))\n",
    "e = int(input(\"Enter a num \"))\n",
    "if a>=60 and b>=60 and c>=60 and d>=60 and e>=60:\n",
    "    print(\"Passed in all subjects\")\n",
    "else:\n",
    "    print(\"Failed in one or more subjects\")"
   ]
  },
  {
   "cell_type": "code",
   "execution_count": 17,
   "id": "c7b8ce2a",
   "metadata": {},
   "outputs": [
    {
     "name": "stdout",
     "output_type": "stream",
     "text": [
      "Enter a num 5\n",
      "ENter the sub marks63\n",
      "Pass\n",
      "ENter the sub marks566\n",
      "Pass\n",
      "ENter the sub marks66\n",
      "Pass\n",
      "ENter the sub marks89\n",
      "Pass\n",
      "ENter the sub marks12\n",
      "Fail\n"
     ]
    }
   ],
   "source": [
    "x = int(input(\"Enter a num \"))\n",
    "for i in range(x):\n",
    "    sub = int(input(\"ENter the sub marks\"))\n",
    "    if sub>=60:\n",
    "        print(\"Pass\")\n",
    "    else:\n",
    "        print(\"Fail\")"
   ]
  },
  {
   "cell_type": "code",
   "execution_count": 19,
   "id": "da18e4c0",
   "metadata": {},
   "outputs": [
    {
     "name": "stdout",
     "output_type": "stream",
     "text": [
      "ENter a alphabet :e\n",
      "VOWEL\n"
     ]
    }
   ],
   "source": [
    "# Condition to check the character is Vowel\n",
    "\n",
    "alpha = input(\"ENter a alphabet :\")\n",
    "if alpha==\"a\" or alpha==\"e\" or alpha==\"i\" or alpha==\"o\" or alpha==\"u\":\n",
    "    print(\"VOWEL\")\n",
    "else:\n",
    "    print(\"CONSONANT\")"
   ]
  },
  {
   "cell_type": "code",
   "execution_count": 30,
   "id": "6374a6c7",
   "metadata": {},
   "outputs": [
    {
     "name": "stdout",
     "output_type": "stream",
     "text": [
      "ENter a alphabet :L\n",
      "Upper\n"
     ]
    }
   ],
   "source": [
    "# Condition to check the character is in Upper case\n",
    "\n",
    "alpha = input(\"ENter a alphabet :\")\n",
    "if alpha > chr(65) and alpha <chr(91):\n",
    "    print(\"Upper\")\n",
    "else:\n",
    "    print(\"Not UPPer\")"
   ]
  },
  {
   "cell_type": "code",
   "execution_count": 41,
   "id": "adf3c13c",
   "metadata": {},
   "outputs": [
    {
     "name": "stdout",
     "output_type": "stream",
     "text": [
      "Enter a char :8\n",
      "Digit\n"
     ]
    }
   ],
   "source": [
    "# Condition To check the character is digit\n",
    "\n",
    "char = int(input(\"Enter a char :\"))\n",
    "if char>=0 and char<=9:\n",
    "    print(\"Digit\")\n",
    "else:\n",
    "    print(\"Not Digit\")"
   ]
  },
  {
   "cell_type": "code",
   "execution_count": 46,
   "id": "a3f8928c",
   "metadata": {},
   "outputs": [
    {
     "name": "stdout",
     "output_type": "stream",
     "text": [
      "Enter any alpha :l\n",
      "It is a charcater\n"
     ]
    }
   ],
   "source": [
    "# Condition to check the character is Alphabet\n",
    "\n",
    "alpha = input(\"Enter any alpha :\")\n",
    "if alpha>=chr(65) and alpha<=chr(120):\n",
    "    print(\"It is a charcater\")\n",
    "else:\n",
    "    print(\"Its not a char\")"
   ]
  },
  {
   "cell_type": "code",
   "execution_count": 63,
   "id": "355141fe",
   "metadata": {},
   "outputs": [
    {
     "name": "stdout",
     "output_type": "stream",
     "text": [
      "Enter any alpha :8\n",
      "Not a Symbol\n"
     ]
    }
   ],
   "source": [
    "# Condition to check the character is symbol\n",
    "\n",
    "alpha = input(\"Enter any alpha :\")\n",
    "if alpha>=chr(33) and alpha<=chr(47):\n",
    "    print(\"Symbol\")\n",
    "else:\n",
    "    print(\"Not a Symbol\")"
   ]
  },
  {
   "cell_type": "code",
   "execution_count": 66,
   "id": "ee20398f",
   "metadata": {},
   "outputs": [
    {
     "name": "stdout",
     "output_type": "stream",
     "text": [
      "Enter a num 12\n",
      "Enter a num 12\n",
      "Enter a num 12\n",
      "Equal\n"
     ]
    }
   ],
   "source": [
    "# Condition to check the 3 numbers are equal\n",
    "\n",
    "x = int(input(\"Enter a num \"))\n",
    "y = int(input(\"Enter a num \"))\n",
    "z = int(input(\"Enter a num \"))\n",
    "if x==y==z:\n",
    "    print(\"Equal\")\n",
    "else:\n",
    "    print(\"Not equal\")"
   ]
  },
  {
   "cell_type": "code",
   "execution_count": 70,
   "id": "855adf3a",
   "metadata": {},
   "outputs": [
    {
     "name": "stdout",
     "output_type": "stream",
     "text": [
      "Enter a num 11\n",
      "Enter a num 54\n",
      "Enter a num 66\n",
      "Not equal\n"
     ]
    }
   ],
   "source": [
    "# Condition to check any 2 numbers are equal or not among 3 numbers\n",
    "\n",
    "x = int(input(\"Enter a num \"))\n",
    "y = int(input(\"Enter a num \"))\n",
    "z = int(input(\"Enter a num \"))\n",
    "if x==y or y==z and z==x:\n",
    "    print(\"2 are equal\")\n",
    "else:\n",
    "    print(\"Not equal\")"
   ]
  },
  {
   "cell_type": "code",
   "execution_count": 73,
   "id": "2aa9cfa3",
   "metadata": {},
   "outputs": [
    {
     "name": "stdout",
     "output_type": "stream",
     "text": [
      "Enter a num 1\n",
      "Enter a num 8\n",
      "Enter a num 6\n",
      "ALl three are unique\n"
     ]
    }
   ],
   "source": [
    "# Condition to check the 3 numbers are unique or not\n",
    "\n",
    "x = int(input(\"Enter a num \"))\n",
    "y = int(input(\"Enter a num \"))\n",
    "z = int(input(\"Enter a num \"))\n",
    "if x!=y and y!=z and z!=x:\n",
    "    print(\"ALl three are unique\")\n",
    "else:\n",
    "    print(\"Not Unique\")"
   ]
  },
  {
   "cell_type": "code",
   "execution_count": null,
   "id": "8c7df367",
   "metadata": {},
   "outputs": [],
   "source": []
  }
 ],
 "metadata": {
  "kernelspec": {
   "display_name": "Python 3 (ipykernel)",
   "language": "python",
   "name": "python3"
  },
  "language_info": {
   "codemirror_mode": {
    "name": "ipython",
    "version": 3
   },
   "file_extension": ".py",
   "mimetype": "text/x-python",
   "name": "python",
   "nbconvert_exporter": "python",
   "pygments_lexer": "ipython3",
   "version": "3.9.12"
  }
 },
 "nbformat": 4,
 "nbformat_minor": 5
}
